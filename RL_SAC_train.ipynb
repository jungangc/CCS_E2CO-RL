{
 "cells": [
  {
   "cell_type": "code",
   "execution_count": 1,
   "id": "f1033e6c-3a8d-4022-bcd6-87f6e190253a",
   "metadata": {
    "tags": []
   },
   "outputs": [
    {
     "data": {
      "text/plain": [
       "<Figure size 640x480 with 0 Axes>"
      ]
     },
     "metadata": {},
     "output_type": "display_data"
    }
   ],
   "source": [
    "# import argparse\n",
    "import datetime\n",
    "import numpy as np\n",
    "import itertools\n",
    "import torch\n",
    "from SAC import Environment, SAC\n",
    "from torch.utils.tensorboard import SummaryWriter\n",
    "\n",
    "from replay_memory import ReplayMemory\n",
    "\n",
    "from ROMWithMSE2C import ROMWithE2C\n",
    "\n",
    "# from pcc_model import PCC\n",
    "from data_preprocessing import *"
   ]
  },
  {
   "cell_type": "code",
   "execution_count": 2,
   "id": "f69d1257-0c6d-4b4b-a924-10882120c192",
   "metadata": {
    "tags": []
   },
   "outputs": [],
   "source": [
    "device = torch.device(\"cuda\" if torch.cuda.is_available() else \"cpu\")"
   ]
  },
  {
   "cell_type": "code",
   "execution_count": 3,
   "id": "f2480ac5-b50b-4250-af1c-f74ade2c8338",
   "metadata": {
    "tags": []
   },
   "outputs": [],
   "source": [
    "output_dir = './saved_models/'\n",
    "\n",
    "data_dir = 'data/'\n",
    "state_file = 'states_norm_slt'\n",
    "ctrl_file = 'controls_norm_slt'\n",
    "yobs_file = 'rate_norm_slt'\n",
    "\n",
    "state_data = state_file + '.mat'\n",
    "ctrl_data = ctrl_file + '.mat'\n",
    "yobs_data = yobs_file + '.mat'\n",
    "cond = 'SC'   # standard condition for rates"
   ]
  },
  {
   "cell_type": "code",
   "execution_count": 4,
   "id": "5c39560c-5a90-4444-98e3-096b09d6fa4e",
   "metadata": {
    "tags": []
   },
   "outputs": [
    {
     "name": "stdout",
     "output_type": "stream",
     "text": [
      "(600, 21, 64, 64)\n",
      "[ 0  1  2  3  4  5  6  7  8  9 10 11 12 13 14 15 16 17 18 19]\n"
     ]
    }
   ],
   "source": [
    "nsteps = 2\n",
    "_, _, _, _, _, num_t_slt, Nx, Ny, num_well, num_prod, num_inj = prepare_data(nsteps, data_dir, state_data, ctrl_data, yobs_data, cond)"
   ]
  },
  {
   "cell_type": "code",
   "execution_count": 5,
   "id": "00f715ac-be04-4601-9d58-b366f6517ad7",
   "metadata": {
    "tags": []
   },
   "outputs": [],
   "source": [
    "n_channels = 2\n",
    "method = 'E2C'\n",
    "ode_steps = 0\n",
    "\n",
    "#################### model specification ##################\n",
    "learning_rate = 2e-4\n",
    "latent_dim = 20\n",
    "\n",
    "u_dim = num_well  # control dimension, gaussian 9 wells\n",
    "\n",
    "input_shape = (n_channels, Nx, Ny)\n",
    "perm_shape = (1, Nx, Ny)\n",
    "prod_loc_shape = (num_well, 2)"
   ]
  },
  {
   "cell_type": "code",
   "execution_count": 6,
   "id": "84be7f17-a99d-41dc-a257-92edf9ed7f0c",
   "metadata": {
    "tags": []
   },
   "outputs": [],
   "source": [
    "epoch = 200\n",
    "num_train = 9000\n",
    "num_eval = 3000\n",
    "encoder_file = output_dir + 'e2co_encoder_dt_'+'_nt%d_l%d_lr%.0e_ep%d_steps%d_cond%s.h5' % (num_train, latent_dim, learning_rate, epoch, nsteps, cond)\n",
    "decoder_file = output_dir + 'e2co_decoder_dt_'+'_nt%d_l%d_lr%.0e_ep%d_steps%d_cond%s.h5' % (num_train, latent_dim, learning_rate, epoch, nsteps, cond)\n",
    "transition_file = output_dir + 'e2co_transition_dt_' +'_nt%d_l%d_lr%.0e_ep%d_steps%d_cond%s.h5' % (num_train, latent_dim, learning_rate, epoch, nsteps, cond)"
   ]
  },
  {
   "cell_type": "code",
   "execution_count": 7,
   "id": "efd7c6fa-9991-428e-b928-0f16121f86bf",
   "metadata": {
    "tags": []
   },
   "outputs": [],
   "source": [
    "my_rom = ROMWithE2C(latent_dim, \n",
    "                    u_dim, num_prod, num_inj, \n",
    "                    input_shape, \n",
    "                    perm_shape, \n",
    "                    prod_loc_shape, \n",
    "                    learning_rate,\n",
    "                    method, \n",
    "                    ode_steps,\n",
    "                    nsteps, \n",
    "                    sigma=0.0).to(device)"
   ]
  },
  {
   "cell_type": "code",
   "execution_count": 8,
   "id": "779d1ff1-1d59-4ea8-a553-92b4abda4163",
   "metadata": {
    "tags": []
   },
   "outputs": [],
   "source": [
    "my_rom.model.load_weights_from_file(encoder_file, decoder_file, transition_file)"
   ]
  },
  {
   "cell_type": "code",
   "execution_count": 9,
   "id": "8e95dd14-4835-49ac-b669-9ee5ee3b0b8a",
   "metadata": {
    "tags": []
   },
   "outputs": [],
   "source": [
    "hf_r = h5py.File(data_dir + state_data, 'r')\n",
    "sat = torch.tensor(np.array(hf_r.get('Mole_frac_norm_slt')).transpose((3,2,1,0)), dtype=torch.float32)\n",
    "pres = torch.tensor(np.array(hf_r.get('Psim_norm_slt')).transpose((3,2,1,0)) , dtype=torch.float32)\n",
    "hf_r.close()"
   ]
  },
  {
   "cell_type": "code",
   "execution_count": 10,
   "id": "fb030b75-7d01-4a4e-8b5b-b300e6b36b7b",
   "metadata": {
    "tags": []
   },
   "outputs": [],
   "source": [
    "sat_t_seq = sat[0:1, 0:1, ...].to(device)\n",
    "pres_t_seq = pres[0:1, 0:1, ...].to(device)\n",
    "\n",
    "state_t_seq = torch.cat((sat_t_seq, pres_t_seq),dim=1)"
   ]
  },
  {
   "cell_type": "code",
   "execution_count": 11,
   "id": "7eba2411-fcec-481d-8f13-8f9b8ed384fa",
   "metadata": {
    "tags": []
   },
   "outputs": [],
   "source": [
    "z0 = my_rom.model.encoder(state_t_seq)"
   ]
  },
  {
   "cell_type": "code",
   "execution_count": 12,
   "id": "6ff8acd8-3573-4c4d-b2a5-839fea2d24d5",
   "metadata": {},
   "outputs": [],
   "source": [
    "# Agent\n",
    "agent = SAC(latent_dim, u_dim)"
   ]
  },
  {
   "cell_type": "code",
   "execution_count": 13,
   "id": "2059013e-6734-4c24-ab52-f4c3526266f8",
   "metadata": {},
   "outputs": [],
   "source": [
    "#Tesnorboard\n",
    "writer = SummaryWriter('runs/{}_SAC_{}_{}_{}'.format(datetime.datetime.now().strftime(\"%Y-%m-%d_%H-%M-%S\"), 'ROM_RL', 'Deterministic', \"autotune\" if False else \"\"))"
   ]
  },
  {
   "cell_type": "code",
   "execution_count": 14,
   "id": "ad2e4d47-5b08-48c9-b436-8e2991f9be29",
   "metadata": {},
   "outputs": [],
   "source": [
    "# Memory\n",
    "memory = ReplayMemory(10000, 123456)"
   ]
  },
  {
   "cell_type": "code",
   "execution_count": 15,
   "id": "31a50308-a55a-439d-86c4-aa81594c98d8",
   "metadata": {},
   "outputs": [],
   "source": [
    "state = z0\n",
    "# ROM based Enviroment\n",
    "env = Environment(state, num_t_slt, num_prod, num_inj, my_rom)"
   ]
  },
  {
   "cell_type": "code",
   "execution_count": 16,
   "id": "28dc6aa6-1c4b-4c69-82b3-d0fed432a206",
   "metadata": {
    "tags": []
   },
   "outputs": [
    {
     "name": "stdout",
     "output_type": "stream",
     "text": [
      "Episode: 0, total numsteps: 20, episode steps: 20, reward: [-151.72453]\n",
      "Episode: 2, total numsteps: 60, episode steps: 20, reward: [-151.72453]\n",
      "Episode: 4, total numsteps: 100, episode steps: 20, reward: [-151.72453]\n",
      "Episode: 6, total numsteps: 140, episode steps: 20, reward: [-151.72453]\n",
      "Episode: 8, total numsteps: 180, episode steps: 20, reward: [-151.72453]\n",
      "Episode: 10, total numsteps: 220, episode steps: 20, reward: [-151.72453]\n",
      "Episode: 12, total numsteps: 260, episode steps: 20, reward: [-151.64601]\n",
      "Episode: 14, total numsteps: 300, episode steps: 20, reward: [-130.74089]\n",
      "Episode: 16, total numsteps: 340, episode steps: 20, reward: [-91.47116]\n",
      "Episode: 18, total numsteps: 380, episode steps: 20, reward: [-41.13715]\n",
      "Episode: 20, total numsteps: 420, episode steps: 20, reward: [-9.975745]\n",
      "Episode: 22, total numsteps: 460, episode steps: 20, reward: [-14.153573]\n",
      "Episode: 24, total numsteps: 500, episode steps: 20, reward: [-31.169514]\n",
      "Episode: 26, total numsteps: 540, episode steps: 20, reward: [-38.4878]\n",
      "Episode: 28, total numsteps: 580, episode steps: 20, reward: [-40.30822]\n",
      "Episode: 30, total numsteps: 620, episode steps: 20, reward: [-41.6811]\n",
      "Episode: 32, total numsteps: 660, episode steps: 20, reward: [-43.177273]\n",
      "Episode: 34, total numsteps: 700, episode steps: 20, reward: [-44.499264]\n",
      "Episode: 36, total numsteps: 740, episode steps: 20, reward: [-45.48634]\n",
      "Episode: 38, total numsteps: 780, episode steps: 20, reward: [-46.172016]\n",
      "Episode: 40, total numsteps: 820, episode steps: 20, reward: [-46.551075]\n",
      "Episode: 42, total numsteps: 860, episode steps: 20, reward: [-46.732616]\n",
      "Episode: 44, total numsteps: 900, episode steps: 20, reward: [-46.750217]\n",
      "Episode: 46, total numsteps: 940, episode steps: 20, reward: [-46.311493]\n",
      "Episode: 48, total numsteps: 980, episode steps: 20, reward: [-43.350746]\n",
      "Episode: 50, total numsteps: 1020, episode steps: 20, reward: [-23.836678]\n",
      "Episode: 52, total numsteps: 1060, episode steps: 20, reward: [-19.718]\n",
      "Episode: 54, total numsteps: 1100, episode steps: 20, reward: [-19.24349]\n",
      "Episode: 56, total numsteps: 1140, episode steps: 20, reward: [-18.034922]\n",
      "Episode: 58, total numsteps: 1180, episode steps: 20, reward: [11.150725]\n",
      "Episode: 60, total numsteps: 1220, episode steps: 20, reward: [22.896896]\n",
      "Episode: 62, total numsteps: 1260, episode steps: 20, reward: [23.27326]\n",
      "Episode: 64, total numsteps: 1300, episode steps: 20, reward: [23.463556]\n",
      "Episode: 66, total numsteps: 1340, episode steps: 20, reward: [24.03093]\n",
      "Episode: 68, total numsteps: 1380, episode steps: 20, reward: [61.95368]\n",
      "Episode: 70, total numsteps: 1420, episode steps: 20, reward: [101.93341]\n",
      "Episode: 72, total numsteps: 1460, episode steps: 20, reward: [102.06423]\n",
      "Episode: 74, total numsteps: 1500, episode steps: 20, reward: [102.094475]\n",
      "Episode: 76, total numsteps: 1540, episode steps: 20, reward: [102.10586]\n",
      "Episode: 78, total numsteps: 1580, episode steps: 20, reward: [102.11045]\n",
      "Episode: 80, total numsteps: 1620, episode steps: 20, reward: [102.11246]\n",
      "Episode: 82, total numsteps: 1660, episode steps: 20, reward: [102.11353]\n",
      "Episode: 84, total numsteps: 1700, episode steps: 20, reward: [102.11413]\n",
      "Episode: 86, total numsteps: 1740, episode steps: 20, reward: [102.11451]\n",
      "Episode: 88, total numsteps: 1780, episode steps: 20, reward: [102.11473]\n",
      "Episode: 90, total numsteps: 1820, episode steps: 20, reward: [102.11487]\n",
      "Episode: 92, total numsteps: 1860, episode steps: 20, reward: [102.114914]\n",
      "Episode: 94, total numsteps: 1900, episode steps: 20, reward: [102.11469]\n",
      "Episode: 96, total numsteps: 1940, episode steps: 20, reward: [102.12722]\n",
      "Episode: 98, total numsteps: 1980, episode steps: 20, reward: [90.00903]\n",
      "Episode: 100, total numsteps: 2020, episode steps: 20, reward: [146.19852]\n",
      "Episode: 102, total numsteps: 2060, episode steps: 20, reward: [146.29536]\n",
      "Episode: 104, total numsteps: 2100, episode steps: 20, reward: [146.30205]\n",
      "Episode: 106, total numsteps: 2140, episode steps: 20, reward: [146.3053]\n",
      "Episode: 108, total numsteps: 2180, episode steps: 20, reward: [146.30696]\n",
      "Episode: 110, total numsteps: 2220, episode steps: 20, reward: [146.30785]\n",
      "Episode: 112, total numsteps: 2260, episode steps: 20, reward: [146.30833]\n",
      "Episode: 114, total numsteps: 2300, episode steps: 20, reward: [146.30864]\n",
      "Episode: 116, total numsteps: 2340, episode steps: 20, reward: [146.30885]\n",
      "Episode: 118, total numsteps: 2380, episode steps: 20, reward: [146.30898]\n",
      "Episode: 120, total numsteps: 2420, episode steps: 20, reward: [146.30907]\n",
      "Episode: 122, total numsteps: 2460, episode steps: 20, reward: [146.30916]\n",
      "Episode: 124, total numsteps: 2500, episode steps: 20, reward: [146.30919]\n",
      "Episode: 126, total numsteps: 2540, episode steps: 20, reward: [146.30923]\n",
      "Episode: 128, total numsteps: 2580, episode steps: 20, reward: [146.30927]\n",
      "Episode: 130, total numsteps: 2620, episode steps: 20, reward: [146.3093]\n",
      "Episode: 132, total numsteps: 2660, episode steps: 20, reward: [146.30931]\n",
      "Episode: 134, total numsteps: 2700, episode steps: 20, reward: [146.30931]\n",
      "Episode: 136, total numsteps: 2740, episode steps: 20, reward: [146.30934]\n",
      "Episode: 138, total numsteps: 2780, episode steps: 20, reward: [146.30936]\n",
      "Episode: 140, total numsteps: 2820, episode steps: 20, reward: [146.30937]\n",
      "Episode: 142, total numsteps: 2860, episode steps: 20, reward: [146.30937]\n",
      "Episode: 144, total numsteps: 2900, episode steps: 20, reward: [146.30936]\n",
      "Episode: 146, total numsteps: 2940, episode steps: 20, reward: [146.30937]\n",
      "Episode: 148, total numsteps: 2980, episode steps: 20, reward: [146.30937]\n",
      "Episode: 150, total numsteps: 3020, episode steps: 20, reward: [146.30937]\n",
      "Episode: 152, total numsteps: 3060, episode steps: 20, reward: [146.30937]\n",
      "Episode: 154, total numsteps: 3100, episode steps: 20, reward: [146.30939]\n",
      "Episode: 156, total numsteps: 3140, episode steps: 20, reward: [146.30939]\n",
      "Episode: 158, total numsteps: 3180, episode steps: 20, reward: [146.3094]\n",
      "Episode: 160, total numsteps: 3220, episode steps: 20, reward: [146.3094]\n",
      "Episode: 162, total numsteps: 3260, episode steps: 20, reward: [146.3094]\n",
      "Episode: 164, total numsteps: 3300, episode steps: 20, reward: [146.3094]\n",
      "Episode: 166, total numsteps: 3340, episode steps: 20, reward: [146.30942]\n",
      "Episode: 168, total numsteps: 3380, episode steps: 20, reward: [146.3094]\n",
      "Episode: 170, total numsteps: 3420, episode steps: 20, reward: [146.30942]\n",
      "Episode: 172, total numsteps: 3460, episode steps: 20, reward: [146.3094]\n",
      "Episode: 174, total numsteps: 3500, episode steps: 20, reward: [146.3094]\n",
      "Episode: 176, total numsteps: 3540, episode steps: 20, reward: [146.3094]\n",
      "Episode: 178, total numsteps: 3580, episode steps: 20, reward: [146.30942]\n",
      "Episode: 180, total numsteps: 3620, episode steps: 20, reward: [146.3094]\n",
      "Episode: 182, total numsteps: 3660, episode steps: 20, reward: [146.3094]\n",
      "Episode: 184, total numsteps: 3700, episode steps: 20, reward: [146.30942]\n",
      "Episode: 186, total numsteps: 3740, episode steps: 20, reward: [146.30942]\n",
      "Episode: 188, total numsteps: 3780, episode steps: 20, reward: [146.30942]\n",
      "Episode: 190, total numsteps: 3820, episode steps: 20, reward: [146.3094]\n",
      "Episode: 192, total numsteps: 3860, episode steps: 20, reward: [146.30942]\n",
      "Episode: 194, total numsteps: 3900, episode steps: 20, reward: [146.30942]\n",
      "Episode: 196, total numsteps: 3940, episode steps: 20, reward: [146.30942]\n",
      "Episode: 198, total numsteps: 3980, episode steps: 20, reward: [146.3094]\n",
      "Episode: 200, total numsteps: 4020, episode steps: 20, reward: [146.30942]\n",
      "Episode: 202, total numsteps: 4060, episode steps: 20, reward: [146.30942]\n",
      "Episode: 204, total numsteps: 4100, episode steps: 20, reward: [146.30942]\n",
      "Episode: 206, total numsteps: 4140, episode steps: 20, reward: [146.30942]\n",
      "Episode: 208, total numsteps: 4180, episode steps: 20, reward: [146.30942]\n",
      "Episode: 210, total numsteps: 4220, episode steps: 20, reward: [146.30943]\n",
      "Episode: 212, total numsteps: 4260, episode steps: 20, reward: [146.30942]\n",
      "Episode: 214, total numsteps: 4300, episode steps: 20, reward: [146.30942]\n",
      "Episode: 216, total numsteps: 4340, episode steps: 20, reward: [146.30943]\n",
      "Episode: 218, total numsteps: 4380, episode steps: 20, reward: [146.30942]\n",
      "Episode: 220, total numsteps: 4420, episode steps: 20, reward: [146.30942]\n",
      "Episode: 222, total numsteps: 4460, episode steps: 20, reward: [146.30942]\n",
      "Episode: 224, total numsteps: 4500, episode steps: 20, reward: [146.30943]\n",
      "Episode: 226, total numsteps: 4540, episode steps: 20, reward: [146.30943]\n"
     ]
    },
    {
     "ename": "KeyboardInterrupt",
     "evalue": "",
     "output_type": "error",
     "traceback": [
      "\u001b[0;31m---------------------------------------------------------------------------\u001b[0m",
      "\u001b[0;31mKeyboardInterrupt\u001b[0m                         Traceback (most recent call last)",
      "Cell \u001b[0;32mIn[16], line 43\u001b[0m\n\u001b[1;32m     39\u001b[0m \u001b[38;5;28;01mif\u001b[39;00m \u001b[38;5;28mlen\u001b[39m(memory) \u001b[38;5;241m>\u001b[39m batch_size:\n\u001b[1;32m     40\u001b[0m     \u001b[38;5;66;03m# Number of updates per step in environment\u001b[39;00m\n\u001b[1;32m     41\u001b[0m     \u001b[38;5;28;01mfor\u001b[39;00m i \u001b[38;5;129;01min\u001b[39;00m \u001b[38;5;28mrange\u001b[39m(updates_per_step):\n\u001b[1;32m     42\u001b[0m         \u001b[38;5;66;03m# Update parameters of all the networks\u001b[39;00m\n\u001b[0;32m---> 43\u001b[0m         critic_1_loss, critic_2_loss, policy_loss, ent_loss, alpha \u001b[38;5;241m=\u001b[39m \u001b[43magent\u001b[49m\u001b[38;5;241;43m.\u001b[39;49m\u001b[43mupdate_parameters\u001b[49m\u001b[43m(\u001b[49m\u001b[43mmemory\u001b[49m\u001b[43m,\u001b[49m\u001b[43m \u001b[49m\u001b[43mbatch_size\u001b[49m\u001b[43m,\u001b[49m\u001b[43m \u001b[49m\u001b[43mupdates\u001b[49m\u001b[43m)\u001b[49m\n\u001b[1;32m     44\u001b[0m         \u001b[38;5;66;03m# critic_1_loss, critic_2_loss, ent_loss, alpha = agent.update_critic_parameters(memory, batch_size, updates)\u001b[39;00m\n\u001b[1;32m     45\u001b[0m         \u001b[38;5;66;03m# policy_loss = agent.update_policy_parameters(memory, batch_size, updates)\u001b[39;00m\n\u001b[1;32m     46\u001b[0m         writer\u001b[38;5;241m.\u001b[39madd_scalar(\u001b[38;5;124m'\u001b[39m\u001b[38;5;124mloss/critic_1\u001b[39m\u001b[38;5;124m'\u001b[39m, critic_1_loss, updates)\n",
      "File \u001b[0;32m/scratch/user/jungangc/E2C-NODE/CCS_MSE2CO_9wells/SAC.py:124\u001b[0m, in \u001b[0;36mSAC.update_parameters\u001b[0;34m(self, memory, batch_size, updates)\u001b[0m\n\u001b[1;32m    122\u001b[0m \u001b[38;5;28mself\u001b[39m\u001b[38;5;241m.\u001b[39mcritic_optim\u001b[38;5;241m.\u001b[39mzero_grad()\n\u001b[1;32m    123\u001b[0m \u001b[38;5;66;03m# qf_loss.backward()\u001b[39;00m\n\u001b[0;32m--> 124\u001b[0m \u001b[43mqf_loss\u001b[49m\u001b[38;5;241;43m.\u001b[39;49m\u001b[43mbackward\u001b[49m\u001b[43m(\u001b[49m\u001b[43mretain_graph\u001b[49m\u001b[38;5;241;43m=\u001b[39;49m\u001b[38;5;28;43;01mTrue\u001b[39;49;00m\u001b[43m)\u001b[49m\n\u001b[1;32m    125\u001b[0m \u001b[38;5;28mself\u001b[39m\u001b[38;5;241m.\u001b[39mcritic_optim\u001b[38;5;241m.\u001b[39mstep()\n\u001b[1;32m    127\u001b[0m pi, log_pi, _ \u001b[38;5;241m=\u001b[39m \u001b[38;5;28mself\u001b[39m\u001b[38;5;241m.\u001b[39mpolicy\u001b[38;5;241m.\u001b[39msample(state_batch)\n",
      "File \u001b[0;32m/scratch/user/jungangc/mylab/lib/python3.8/site-packages/torch/_tensor.py:487\u001b[0m, in \u001b[0;36mTensor.backward\u001b[0;34m(self, gradient, retain_graph, create_graph, inputs)\u001b[0m\n\u001b[1;32m    477\u001b[0m \u001b[38;5;28;01mif\u001b[39;00m has_torch_function_unary(\u001b[38;5;28mself\u001b[39m):\n\u001b[1;32m    478\u001b[0m     \u001b[38;5;28;01mreturn\u001b[39;00m handle_torch_function(\n\u001b[1;32m    479\u001b[0m         Tensor\u001b[38;5;241m.\u001b[39mbackward,\n\u001b[1;32m    480\u001b[0m         (\u001b[38;5;28mself\u001b[39m,),\n\u001b[0;32m   (...)\u001b[0m\n\u001b[1;32m    485\u001b[0m         inputs\u001b[38;5;241m=\u001b[39minputs,\n\u001b[1;32m    486\u001b[0m     )\n\u001b[0;32m--> 487\u001b[0m \u001b[43mtorch\u001b[49m\u001b[38;5;241;43m.\u001b[39;49m\u001b[43mautograd\u001b[49m\u001b[38;5;241;43m.\u001b[39;49m\u001b[43mbackward\u001b[49m\u001b[43m(\u001b[49m\n\u001b[1;32m    488\u001b[0m \u001b[43m    \u001b[49m\u001b[38;5;28;43mself\u001b[39;49m\u001b[43m,\u001b[49m\u001b[43m \u001b[49m\u001b[43mgradient\u001b[49m\u001b[43m,\u001b[49m\u001b[43m \u001b[49m\u001b[43mretain_graph\u001b[49m\u001b[43m,\u001b[49m\u001b[43m \u001b[49m\u001b[43mcreate_graph\u001b[49m\u001b[43m,\u001b[49m\u001b[43m \u001b[49m\u001b[43minputs\u001b[49m\u001b[38;5;241;43m=\u001b[39;49m\u001b[43minputs\u001b[49m\n\u001b[1;32m    489\u001b[0m \u001b[43m\u001b[49m\u001b[43m)\u001b[49m\n",
      "File \u001b[0;32m/scratch/user/jungangc/mylab/lib/python3.8/site-packages/torch/autograd/__init__.py:200\u001b[0m, in \u001b[0;36mbackward\u001b[0;34m(tensors, grad_tensors, retain_graph, create_graph, grad_variables, inputs)\u001b[0m\n\u001b[1;32m    195\u001b[0m     retain_graph \u001b[38;5;241m=\u001b[39m create_graph\n\u001b[1;32m    197\u001b[0m \u001b[38;5;66;03m# The reason we repeat same the comment below is that\u001b[39;00m\n\u001b[1;32m    198\u001b[0m \u001b[38;5;66;03m# some Python versions print out the first line of a multi-line function\u001b[39;00m\n\u001b[1;32m    199\u001b[0m \u001b[38;5;66;03m# calls in the traceback and some print out the last line\u001b[39;00m\n\u001b[0;32m--> 200\u001b[0m \u001b[43mVariable\u001b[49m\u001b[38;5;241;43m.\u001b[39;49m\u001b[43m_execution_engine\u001b[49m\u001b[38;5;241;43m.\u001b[39;49m\u001b[43mrun_backward\u001b[49m\u001b[43m(\u001b[49m\u001b[43m  \u001b[49m\u001b[38;5;66;43;03m# Calls into the C++ engine to run the backward pass\u001b[39;49;00m\n\u001b[1;32m    201\u001b[0m \u001b[43m    \u001b[49m\u001b[43mtensors\u001b[49m\u001b[43m,\u001b[49m\u001b[43m \u001b[49m\u001b[43mgrad_tensors_\u001b[49m\u001b[43m,\u001b[49m\u001b[43m \u001b[49m\u001b[43mretain_graph\u001b[49m\u001b[43m,\u001b[49m\u001b[43m \u001b[49m\u001b[43mcreate_graph\u001b[49m\u001b[43m,\u001b[49m\u001b[43m \u001b[49m\u001b[43minputs\u001b[49m\u001b[43m,\u001b[49m\n\u001b[1;32m    202\u001b[0m \u001b[43m    \u001b[49m\u001b[43mallow_unreachable\u001b[49m\u001b[38;5;241;43m=\u001b[39;49m\u001b[38;5;28;43;01mTrue\u001b[39;49;00m\u001b[43m,\u001b[49m\u001b[43m \u001b[49m\u001b[43maccumulate_grad\u001b[49m\u001b[38;5;241;43m=\u001b[39;49m\u001b[38;5;28;43;01mTrue\u001b[39;49;00m\u001b[43m)\u001b[49m\n",
      "\u001b[0;31mKeyboardInterrupt\u001b[0m: "
     ]
    }
   ],
   "source": [
    "# Training Loop\n",
    "# batch_size = 256\n",
    "batch_size = 256\n",
    "total_numsteps = 0\n",
    "updates = 0\n",
    "updates_per_step = 1\n",
    "total_episodes = 500\n",
    "max_steps = 20\n",
    "\n",
    "max_reward = 0\n",
    "# eval = True\n",
    "# for i_episode in itertools.count(1):\n",
    "for i_episode in range(total_episodes):\n",
    "    episode_reward = 0\n",
    "    episode_steps = 0\n",
    "    done = False\n",
    "    state = env.reset(z0)\n",
    "    \n",
    "    # while not done:\n",
    "    for j in range(max_steps):\n",
    "        # if total_numsteps<2000:\n",
    "        if total_numsteps<0:\n",
    "            action = env.sample_action()  # Sample random action    --- exploration\n",
    "        else:\n",
    "            action = agent.select_action(state)  # Sample action from policy   --- exploitation\n",
    "\n",
    "        # print(episode_steps)\n",
    "        next_state, reward, done  = env.step(action) # Step\n",
    "        \n",
    "        # print(next_state)\n",
    "\n",
    "        # Ignore the \"done\" signal if it comes from hitting the time horizon.\n",
    "        # (https://github.com/openai/spinningup/blob/master/spinup/algos/sac/sac.py)\n",
    "        # mask = 1 if episode_steps == num_t_slt else float(not done))\n",
    "\n",
    "        # memory.push(state, action, reward, next_state, mask) # Append transition to memory\n",
    "        memory.push(state, action, reward, next_state)\n",
    "        \n",
    "        if len(memory) > batch_size:\n",
    "            # Number of updates per step in environment\n",
    "            for i in range(updates_per_step):\n",
    "                # Update parameters of all the networks\n",
    "                critic_1_loss, critic_2_loss, policy_loss, ent_loss, alpha = agent.update_parameters(memory, batch_size, updates)\n",
    "                # critic_1_loss, critic_2_loss, ent_loss, alpha = agent.update_critic_parameters(memory, batch_size, updates)\n",
    "                # policy_loss = agent.update_policy_parameters(memory, batch_size, updates)\n",
    "                writer.add_scalar('loss/critic_1', critic_1_loss, updates)\n",
    "                writer.add_scalar('loss/critic_2', critic_2_loss, updates)\n",
    "                writer.add_scalar('loss/policy', policy_loss, updates)\n",
    "                writer.add_scalar('loss/entropy_loss', ent_loss, updates)\n",
    "                writer.add_scalar('entropy_temprature/alpha', alpha, updates)\n",
    "                updates += 1\n",
    "                \n",
    "        state = next_state\n",
    "        episode_steps += 1\n",
    "        total_numsteps += 1\n",
    "        episode_reward += reward\n",
    "\n",
    "    # if total_numsteps > num_t_slt:\n",
    "    #     break\n",
    "\n",
    "    writer.add_scalar('reward/train', episode_reward.detach().cpu().numpy(), i_episode)\n",
    "    if i_episode % 2 == 0:\n",
    "        print(\"Episode: {}, total numsteps: {}, episode steps: {}, reward: {}\".format(i_episode, total_numsteps, episode_steps, episode_reward.detach().cpu().numpy()))\n",
    "\n",
    "    if episode_reward >= max_reward:\n",
    "        agent.save_checkpoint(env_name='ROM_RL')\n",
    "        max_reward = episode_reward"
   ]
  },
  {
   "cell_type": "code",
   "execution_count": 17,
   "id": "dcdf7bbc-eedb-496d-a0a4-97f6ee746505",
   "metadata": {},
   "outputs": [
    {
     "name": "stdout",
     "output_type": "stream",
     "text": [
      "Loading models from checkpoints/sac_checkpoint_ROM_RL_\n"
     ]
    }
   ],
   "source": [
    "ckpt_path = \"checkpoints/sac_checkpoint_{}_{}\".format('ROM_RL', \"\")\n",
    "agent.load_checkpoint(ckpt_path)"
   ]
  },
  {
   "cell_type": "code",
   "execution_count": 18,
   "id": "25e1a792-5c08-4705-b727-85c7711732c3",
   "metadata": {
    "tags": []
   },
   "outputs": [],
   "source": [
    "### choose the best sac for planning\n",
    "dt = torch.tensor(np.ones((1,1)), dtype=torch.float32).to(device)  # dt=20days, normalized to 1\n",
    "state = z0\n",
    "env = Environment(state, num_t_slt, num_prod, num_inj, my_rom)\n",
    "done = False\n",
    "ACTIONS = []\n",
    "Yobs_pred = []\n",
    "while not done:\n",
    "    action = agent.select_action(state, evaluate=True)\n",
    "\n",
    "    _, yobs_pred = my_rom.predict_latent(state, dt, action)\n",
    "    next_state, reward, done = env.step(action) \n",
    "\n",
    "    \n",
    "    state = next_state\n",
    "    ACTIONS.append(action)\n",
    "    Yobs_pred.append(yobs_pred)"
   ]
  },
  {
   "cell_type": "code",
   "execution_count": 19,
   "id": "629b21c1-1c03-4ed9-a126-0e46f3062ff7",
   "metadata": {
    "tags": []
   },
   "outputs": [],
   "source": [
    "# Q_min = 0\n",
    "# Q_max = 1000*1.20\n",
    "# Q_diff = Q_max - Q_min\n",
    "p_max = 4069.2\n",
    "p_min = 2200\n",
    "p_diff = p_max - p_min\n",
    "\n",
    "Q_min = 0\n",
    "Q_max_w = 3151.0\n",
    "Q_max_g = 1.2e6\n",
    "Q_diff_w = Q_max_w - Q_min\n",
    "Q_diff_g = Q_max_g - Q_min"
   ]
  },
  {
   "cell_type": "code",
   "execution_count": 20,
   "id": "0bdb1a59-d7c8-45f5-8ead-a69241956917",
   "metadata": {
    "tags": []
   },
   "outputs": [
    {
     "data": {
      "text/plain": [
       "torch.Size([1, 4])"
      ]
     },
     "execution_count": 20,
     "metadata": {},
     "output_type": "execute_result"
    }
   ],
   "source": [
    "ACTIONS[0][:,num_prod:].shape"
   ]
  },
  {
   "cell_type": "code",
   "execution_count": 21,
   "id": "d50a11ef-759a-470a-a327-da85e82014f2",
   "metadata": {
    "tags": []
   },
   "outputs": [],
   "source": [
    "npv = 0\n",
    "for i_time in range(len(Yobs_pred)):\n",
    "    alpha = np.power((1-0.05),i_time*100/365)\n",
    "    Qpro_w = Yobs_pred[i_time][:,:num_prod]*Q_diff_w+Q_min\n",
    "    Qpro_g = Yobs_pred[i_time][:,num_prod:num_prod*2]*Q_diff_g+Q_min\n",
    "    Qinj_g = ACTIONS[i_time][:, num_prod:]*Q_diff_g+Q_min\n",
    "    lf3toton =0.1167*4.536e-4 # convert lf^3 to ton \n",
    "    pv = np.sum((50-10)*lf3toton*Qinj_g.detach().cpu().numpy().squeeze())- np.sum(5*Qpro_w.detach().cpu().numpy().squeeze()) - np.sum(50*lf3toton*Qpro_g.detach().cpu().numpy().squeeze())\n",
    "    npv += pv*100*alpha"
   ]
  },
  {
   "cell_type": "code",
   "execution_count": 22,
   "id": "11a8187d-014e-48dd-8844-2e1071a26762",
   "metadata": {
    "tags": []
   },
   "outputs": [
    {
     "data": {
      "text/plain": [
       "14183097.589750618"
      ]
     },
     "execution_count": 22,
     "metadata": {},
     "output_type": "execute_result"
    }
   ],
   "source": [
    "npv"
   ]
  },
  {
   "cell_type": "code",
   "execution_count": 23,
   "id": "cd97d782-3639-4776-95cf-20f17cf671df",
   "metadata": {
    "tags": []
   },
   "outputs": [],
   "source": [
    "Controls_opt = np.zeros((len(ACTIONS), num_well))\n",
    "for i in range(len(ACTIONS)):\n",
    "    Controls_opt[i, :num_prod] = ACTIONS[i][:,:num_prod].detach().cpu().numpy().squeeze()*p_diff+p_min\n",
    "    Controls_opt[i, num_prod:num_well] = ACTIONS[i][:,num_prod:num_well].detach().cpu().numpy().squeeze()*Q_diff_g+Q_min"
   ]
  },
  {
   "cell_type": "code",
   "execution_count": 24,
   "id": "24fbf1e5-658c-4351-b4aa-bd6b76310f8f",
   "metadata": {
    "tags": []
   },
   "outputs": [
    {
     "data": {
      "image/png": "[encoded data removed]",
      "text/plain": [
       "<Figure size 640x480 with 2 Axes>"
      ]
     },
     "metadata": {},
     "output_type": "display_data"
    }
   ],
   "source": [
    "import matplotlib.pyplot as plt\n",
    "prod_wells =['Prod {}'.format(i+1) for i in range(num_prod)]\n",
    "days = ['{}'.format((i+1)*100) for i in range(len(ACTIONS))]\n",
    "plt.imshow(Controls_opt[:, :num_prod].transpose())\n",
    "ax = plt.gca()\n",
    "ax.set_yticks(np.arange(num_prod))\n",
    "ax.set_xticks(np.arange(len(ACTIONS))+0.5)\n",
    "ax.set_yticklabels(labels=prod_wells)\n",
    "ax.set_xticklabels(labels=days, rotation=90, ha='left')\n",
    "# ax.grid(color='b', linestyle='-', linewidth=1)\n",
    "cbar = plt.colorbar(orientation=\"horizontal\")\n",
    "cbar.ax.set_xlabel('psia')\n",
    "# plt.colorbar()\n",
    "plt.clim(2200,2500)\n",
    "plt.show()"
   ]
  },
  {
   "cell_type": "code",
   "execution_count": 25,
   "id": "ae141f7f-d327-4d7b-badd-66502066d4e8",
   "metadata": {
    "tags": []
   },
   "outputs": [
    {
     "data": {
      "image/png": "[encoded data removed]",
      "text/plain": [
       "<Figure size 640x480 with 2 Axes>"
      ]
     },
     "metadata": {},
     "output_type": "display_data"
    }
   ],
   "source": [
    "import matplotlib.ticker as ticker\n",
    "def fmt(x, pos):\n",
    "    a, b = '{:.2e}'.format(x).split('e')\n",
    "    b = int(b)\n",
    "    return r'${} \\times 10^{{{}}}$'.format(a, b)\n",
    "\n",
    "inj_wells =['Inj {}'.format(i+1) for i in range(num_inj)]\n",
    "days = ['{}'.format((i+1)*100) for i in range(len(ACTIONS))]\n",
    "plt.imshow(Controls_opt[:, num_prod:num_well].transpose())\n",
    "plt.yticks(np.arange(num_inj), labels=inj_wells)\n",
    "plt.xticks(np.arange(0.5,20.5,1), labels=days, rotation=90, ha='right')\n",
    "cbar = plt.colorbar(orientation=\"horizontal\")\n",
    "cbar.formatter.set_powerlimits((0, 0))\n",
    "cbar.formatter.set_useMathText(True)\n",
    "cbar.ax.set_xlabel('ft^3/Day')\n",
    "plt.show()"
   ]
  },
  {
   "cell_type": "code",
   "execution_count": 26,
   "id": "08045afe-3180-435a-86fa-4da3946395d4",
   "metadata": {
    "tags": []
   },
   "outputs": [
    {
     "data": {
      "text/plain": [
       "array([[100000.0859375, 100000.078125 , 100000.09375  , 100000.0390625],\n",
       "       [100000.       , 100000.       , 100000.       , 100000.       ],\n",
       "       [100000.       , 100000.       , 100000.       , 100000.       ],\n",
       "       [100000.       , 100000.       , 100000.       , 100000.       ],\n",
       "       [100000.       , 100000.       , 100000.       , 100000.       ],\n",
       "       [100000.       , 100000.       , 100000.       , 100000.       ],\n",
       "       [100000.       , 100000.       , 100000.       , 100000.       ],\n",
       "       [100000.       , 100000.       , 100000.       , 100000.       ],\n",
       "       [100000.       , 100000.       , 100000.       , 100000.       ],\n",
       "       [100000.       , 100000.       , 100000.       , 100000.       ],\n",
       "       [100000.       , 100000.       , 100000.       , 100000.       ],\n",
       "       [100000.       , 100000.       , 100000.       , 100000.       ],\n",
       "       [100000.       , 100000.       , 100000.       , 100000.       ],\n",
       "       [100000.       , 100000.       , 100000.       , 100000.       ],\n",
       "       [100000.       , 100000.       , 100000.       , 100000.       ],\n",
       "       [100000.       , 100000.       , 100000.       , 100000.       ],\n",
       "       [100000.       , 100000.       , 100000.       , 100000.       ],\n",
       "       [100000.       , 100000.       , 100000.       , 100000.       ],\n",
       "       [100000.       , 100000.       , 100000.       , 100000.       ],\n",
       "       [100000.       , 100000.       , 100000.       , 100000.       ]])"
      ]
     },
     "execution_count": 26,
     "metadata": {},
     "output_type": "execute_result"
    }
   ],
   "source": [
    "Controls_opt[:, num_prod:num_well]"
   ]
  },
  {
   "cell_type": "code",
   "execution_count": 27,
   "id": "5c04017d-9f44-4c32-916a-aed024a5aa49",
   "metadata": {},
   "outputs": [],
   "source": [
    "hf_r = h5py.File(data_dir + yobs_data)\n",
    "Qrate_w = torch.tensor(np.array(hf_r.get('Qpro_w_norm_slt')).transpose((2,1,0)), dtype=torch.float32)\n",
    "Qrate_g = torch.tensor(np.array(hf_r.get('Qpro_g_norm_slt')).transpose((2,1,0)), dtype=torch.float32)\n",
    "BHP_inj = torch.tensor(np.array(hf_r.get('BHPinj_norm_slt')).transpose((2,1,0)), dtype=torch.float32)\n",
    "hf_r.close()\n",
    "yobs = torch.cat((Qrate_w,Qrate_g,BHP_inj),dim=1)"
   ]
  },
  {
   "cell_type": "code",
   "execution_count": 28,
   "id": "6aa10bc4-f4c8-41f3-8ee3-9773dc2d46ca",
   "metadata": {},
   "outputs": [],
   "source": [
    "hf_r = h5py.File(data_dir + ctrl_data, 'r')\n",
    "bhp0 = torch.tensor(np.array(hf_r.get('Pwf_norm_slt')).transpose((2,1,0)) , dtype=torch.float32)\n",
    "rate0 = torch.tensor(np.array(hf_r.get('Qinj_norm_slt')).transpose((2,1,0)) , dtype=torch.float32)\n",
    "hf_r.close()\n",
    "controls = torch.cat((bhp0,rate0),dim=1)"
   ]
  },
  {
   "cell_type": "code",
   "execution_count": 29,
   "id": "4af708c7-f820-4826-be0c-5e8faf66f56c",
   "metadata": {},
   "outputs": [
    {
     "data": {
      "text/plain": [
       "torch.Size([600, 14, 20])"
      ]
     },
     "execution_count": 29,
     "metadata": {},
     "output_type": "execute_result"
    }
   ],
   "source": [
    "yobs.shape"
   ]
  },
  {
   "cell_type": "code",
   "execution_count": 30,
   "id": "f42fd2d8-f473-4d32-8a03-73739ee8478c",
   "metadata": {
    "tags": []
   },
   "outputs": [],
   "source": [
    "npv_all =0\n",
    "for i_time in range(yobs.shape[2]):\n",
    "    alpha = np.power((1-0.05),i_time*100/365)\n",
    "    Qw = yobs[:,:num_prod, i_time]*Q_diff_w+Q_min\n",
    "    Qg = yobs[:,num_prod:num_prod*2, i_time]*Q_diff_g+Q_min\n",
    "    Qinj_g = controls[:, num_prod:-1, i_time]*Q_diff_g+Q_min\n",
    "    lf3toton =0.1167*4.536e-4 # convert lf^3 to ton \n",
    "    pv = np.sum((50-10)*lf3toton*Qinj_g.detach().cpu().numpy().squeeze())- np.sum(5*Qw.detach().cpu().numpy().squeeze()) - np.sum(50*lf3toton*Qg.detach().cpu().numpy().squeeze())\n",
    "    npv_all += pv*100*alpha"
   ]
  },
  {
   "cell_type": "code",
   "execution_count": 31,
   "id": "4b0073c3-becb-4731-875c-d37d399033d0",
   "metadata": {
    "tags": []
   },
   "outputs": [
    {
     "data": {
      "text/plain": [
       "-4329393110.151995"
      ]
     },
     "execution_count": 31,
     "metadata": {},
     "output_type": "execute_result"
    }
   ],
   "source": [
    "np.max(npv_all)"
   ]
  },
  {
   "cell_type": "code",
   "execution_count": 32,
   "id": "0614e275-85f3-4b0b-9f35-ae3819eb0464",
   "metadata": {
    "tags": []
   },
   "outputs": [],
   "source": [
    "yobs_file_best = 'rate_norm_best2'\n",
    "yobs_data_best = yobs_file_best + '.mat'\n",
    "\n",
    "ctrl_file_best = 'controls_norm_best2'\n",
    "ctrl_data_best = ctrl_file_best + '.mat'"
   ]
  },
  {
   "cell_type": "code",
   "execution_count": 33,
   "id": "c635bddd-b7e3-47e9-9e32-25d401dd012c",
   "metadata": {},
   "outputs": [],
   "source": [
    "hf_r_best = h5py.File(data_dir + yobs_data_best, 'r')\n",
    "Qrate_w = torch.tensor(np.array(hf_r_best.get('Qpro_w_norm_best')).transpose((2,1,0)), dtype=torch.float32)\n",
    "Qrate_g = torch.tensor(np.array(hf_r_best.get('Qpro_g_norm_best')).transpose((2,1,0)), dtype=torch.float32)\n",
    "BHP_inj = torch.tensor(np.array(hf_r_best.get('BHPinj_norm_best')).transpose((2,1,0)), dtype=torch.float32)\n",
    "hf_r_best.close()\n",
    "yobs_best = torch.cat((Qrate_w,Qrate_g,BHP_inj),dim=1)"
   ]
  },
  {
   "cell_type": "code",
   "execution_count": 34,
   "id": "e7d937fe-bfe7-4060-bd93-b1fca86464ed",
   "metadata": {
    "tags": []
   },
   "outputs": [],
   "source": [
    "hf_r = h5py.File(data_dir + ctrl_data_best, 'r')\n",
    "bhp0 = torch.tensor(np.array(hf_r.get('Pwf_norm_best')).transpose((2,1,0)) , dtype=torch.float32)\n",
    "rate0 = torch.tensor(np.array(hf_r.get('Qinj_norm_best')).transpose((2,1,0)) , dtype=torch.float32)\n",
    "hf_r.close()\n",
    "controls_best = torch.cat((bhp0,rate0),dim=1)"
   ]
  },
  {
   "cell_type": "code",
   "execution_count": 35,
   "id": "dc714704-dcf9-41f7-b574-6b5075697631",
   "metadata": {
    "tags": []
   },
   "outputs": [],
   "source": [
    "npv_all =0\n",
    "for i_time in range(yobs_best.shape[2]):\n",
    "    alpha = np.power((1-0.05),i_time*100/365)\n",
    "    Qw = yobs_best[:,:num_prod, i_time]*Q_diff_w+Q_min\n",
    "    Qg = yobs_best[:,num_prod:num_prod*2, i_time]*Q_diff_g+Q_min\n",
    "    Qinj_g = controls_best[:, num_prod:-1, i_time]*Q_diff_g+Q_min\n",
    "    lf3toton =0.1167*4.536e-4 # convert lf^3 to ton \n",
    "    pv = np.sum((50-10)*lf3toton*Qinj_g.detach().cpu().numpy().squeeze())- np.sum(5*Qw.detach().cpu().numpy().squeeze()) - np.sum(50*lf3toton*Qg.detach().cpu().numpy().squeeze())\n",
    "    npv_all += pv*100*alpha"
   ]
  },
  {
   "cell_type": "code",
   "execution_count": 36,
   "id": "deef23cf-ecd7-4d4a-a468-25ae28de0ab6",
   "metadata": {
    "tags": []
   },
   "outputs": [
    {
     "data": {
      "text/plain": [
       "-10327732.66562316"
      ]
     },
     "execution_count": 36,
     "metadata": {},
     "output_type": "execute_result"
    }
   ],
   "source": [
    "npv_all"
   ]
  },
  {
   "cell_type": "code",
   "execution_count": 37,
   "id": "4cc2b8cb-4fc1-4438-97b2-69fdb54ce1e8",
   "metadata": {},
   "outputs": [
    {
     "data": {
      "image/png": "[encoded data removed]",
      "text/plain": [
       "<Figure size 640x480 with 1 Axes>"
      ]
     },
     "metadata": {},
     "output_type": "display_data"
    }
   ],
   "source": [
    "NPV_all =np.zeros((yobs.shape[0], yobs.shape[2]+1))\n",
    "NPV = np.zeros((yobs.shape[2]+1))\n",
    "for i_time in range(yobs.shape[2]):\n",
    "    alpha = np.power((1-0.05),i_time*100/365)\n",
    "    Qpro_w = Yobs_pred[i_time][:,:num_prod]*Q_diff_w+Q_min\n",
    "    Qpro_g = Yobs_pred[i_time][:,num_prod:num_prod*2]*Q_diff_g+Q_min\n",
    "    Qinj_g = ACTIONS[i_time][:, num_prod:]*Q_diff_g+Q_min\n",
    "    lf3toton =0.1167*4.536e-4 # convert lf^3 to ton \n",
    "    pv = np.sum((50-10)*lf3toton*Qinj_g.detach().cpu().numpy().squeeze())- np.sum(10*Qpro_w.detach().cpu().numpy().squeeze()) - np.sum(50*lf3toton*Qpro_g.detach().cpu().numpy().squeeze())\n",
    "    npv += pv*100*alpha\n",
    "    NPV[i_time+1] = npv\n",
    "    \n",
    "    Qw = yobs[:,:num_prod, i_time]*Q_diff_w+Q_min\n",
    "    Qg = yobs[:,num_prod:num_prod*2, i_time]*Q_diff_g+Q_min\n",
    "    Qinj_g = controls[:, num_prod:-1, i_time]*Q_diff_g+Q_min\n",
    "    pv_all = np.sum((50-10)*lf3toton*Qinj_g.detach().cpu().numpy().squeeze())- np.sum(10*Qw.detach().cpu().numpy().squeeze()) - np.sum(50*lf3toton*Qg.detach().cpu().numpy().squeeze())\n",
    "    npv_all += pv_all*100*alpha\n",
    "    NPV_all[:, i_time+1] = npv_all\n",
    "\n",
    "plt.plot(NPV)\n",
    "# for i in range(NPV_all.shape[0]):\n",
    "#     plt.plot(NPV_all[i,:],'b')\n",
    "plt.show()"
   ]
  },
  {
   "cell_type": "code",
   "execution_count": null,
   "id": "d47144b7-d18a-4596-9797-51a13d788b61",
   "metadata": {
    "tags": []
   },
   "outputs": [],
   "source": [
    "NPV.size"
   ]
  },
  {
   "cell_type": "code",
   "execution_count": null,
   "id": "2a646896-7e82-4bc4-867e-a266bb149397",
   "metadata": {
    "tags": []
   },
   "outputs": [],
   "source": [
    "plt.plot(np.arange(yobs.shape[2]+1)*100, NPV)\n",
    "# for i in range(NPV_all.shape[0]):\n",
    "#     plt.plot(NPV_all[i,:],'b')\n",
    "plt.xticks(fontsize=14)\n",
    "plt.yticks(fontsize=14)\n",
    "plt.xlabel('Days', fontsize=14)\n",
    "plt.ylabel('USD', fontsize=14)\n",
    "plt.show()"
   ]
  },
  {
   "cell_type": "code",
   "execution_count": null,
   "id": "246783f6-34e2-42c2-9a09-fd27b7852bb1",
   "metadata": {},
   "outputs": [],
   "source": []
  }
 ],
 "metadata": {
  "kernelspec": {
   "display_name": "Python 3 (ipykernel)",
   "language": "python",
   "name": "python3"
  },
  "language_info": {
   "codemirror_mode": {
    "name": "ipython",
    "version": 3
   },
   "file_extension": ".py",
   "mimetype": "text/x-python",
   "name": "python",
   "nbconvert_exporter": "python",
   "pygments_lexer": "ipython3",
   "version": "3.8.2"
  }
 },
 "nbformat": 4,
 "nbformat_minor": 5
}
